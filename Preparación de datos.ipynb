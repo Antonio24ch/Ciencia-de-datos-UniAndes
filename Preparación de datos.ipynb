{
  "cells": [
    {
      "cell_type": "markdown",
      "metadata": {
        "id": "view-in-github",
        "colab_type": "text"
      },
      "source": [
        "<a href=\"https://colab.research.google.com/github/Antonio24ch/Ciencia-de-datos-UniAndes/blob/main/Preparaci%C3%B3n%20de%20datos.ipynb\" target=\"_parent\"><img src=\"https://colab.research.google.com/assets/colab-badge.svg\" alt=\"Open In Colab\"/></a>"
      ]
    },
    {
      "cell_type": "markdown",
      "metadata": {
        "id": "t4cfAhOgXzFd"
      },
      "source": [
        "![Banner-Introducci-n.png](https://i.postimg.cc/VkCcqsvv/Banner-Introducci-n.png)"
      ]
    },
    {
      "cell_type": "markdown",
      "metadata": {
        "id": "vS5Wv2VYXzFj"
      },
      "source": [
        "# Introducción a ciencia de datos\n",
        "## L3: Preparación básica de datos\n",
        "De acuerdo con el caso de uso del sector retail que se menciona en el PDF se va a desarrollar en los temas vistos en las infografías y videos anteriores, además utilice este notebook como guía para la solución de los problemas que se propongan en el caso de uso A\n"
      ]
    },
    {
      "cell_type": "markdown",
      "metadata": {
        "id": "X0zB8LFHXzFk"
      },
      "source": [
        "### Objetivos\n",
        "1. Entender los diferentes tipos de datos que se presentan\n",
        "2. Identificar datos duplicados y nulos\n",
        "3. Realizar el análisis del tipo de dato en concordancia con la interpretación del lenguaje de programación\n"
      ]
    },
    {
      "cell_type": "markdown",
      "metadata": {
        "id": "xC-Q-P75XzFl"
      },
      "source": [
        "**Autor:** David Ocampo"
      ]
    },
    {
      "cell_type": "markdown",
      "metadata": {
        "id": "PqsZlrYAXzFl"
      },
      "source": [
        "### 1. Contexto del caso\n",
        "En este notebook se revisará los tipos de variables que se tienen para así poder realizar cálculos y análisis a partir de las variables"
      ]
    },
    {
      "cell_type": "markdown",
      "metadata": {
        "id": "826F-RsNXzFm"
      },
      "source": [
        "### 2. Importación de librerías y archivos\n",
        "En las siguientes líneas de código se importaran los materiales de trabajo necesarios para desarrollar el caso de uso, en esto se incluyen las librerías y los datos"
      ]
    },
    {
      "cell_type": "code",
      "execution_count": 1,
      "metadata": {
        "id": "Y1eiSFgaXzFm"
      },
      "outputs": [],
      "source": [
        "# Importar las librerías necesarias según el análisis que se vaya a realizar\n",
        "# Librería para comando de sistema\n",
        "import os\n",
        "# Librería para manejo de datos\n",
        "import pandas as pd\n",
        "# Librería para manejo de fechas\n",
        "from datetime import date"
      ]
    },
    {
      "cell_type": "code",
      "execution_count": 2,
      "metadata": {
        "scrolled": false,
        "colab": {
          "base_uri": "https://localhost:8080/",
          "height": 270
        },
        "id": "DF3hQYfuXzFo",
        "outputId": "16c9d73a-0095-4eda-b343-4ea6787ecb08"
      },
      "outputs": [
        {
          "output_type": "execute_result",
          "data": {
            "text/plain": [
              "      orden_id order_item_id producto_id vendedor_id fecha_envio_limite  \\\n",
              "0  107500PO59A             A        PO59      VE5389    7/04/2018 18:12   \n",
              "1   37493PS22B             B        PS22      VE1558    20/10/2017 9:07   \n",
              "2   28050PK20B             B        PK20      VE9159    17/08/2017 8:15   \n",
              "3   52187PA10A             A        PA10      VE3159   23/09/2017 23:27   \n",
              "4   84639PR12A             A        PR12      VE5090    7/01/2018 11:50   \n",
              "\n",
              "   precio  valor_flete  codigo_postal_vendedor ciudad_vendedor  \\\n",
              "0  271.86        30.72                   52435         Mallama   \n",
              "1  115.73         4.68                   52203           Colon   \n",
              "2  432.99        82.70                   66001         Pereira   \n",
              "3  108.38        35.39                   52435         Mallama   \n",
              "4   51.50        11.10                   73001          Ibague   \n",
              "\n",
              "  departamento_vendedor nombre_categoria_producto  longitud_nombre_producto  \\\n",
              "0                Nariño    Productos ecoamigables                       6.0   \n",
              "1                Nariño                Carnicería                      10.0   \n",
              "2             Risaralda                  Deportes                      25.0   \n",
              "3                Nariño         Electrodomésticos                      10.0   \n",
              "4                Tolima         Frutas y verduras                      23.0   \n",
              "\n",
              "   longitud_descripcion_producto  cantidad_fotos_producto  peso_g_producto  \\\n",
              "0                            7.0                     27.0           2486.0   \n",
              "1                           31.0                     20.0            256.0   \n",
              "2                            5.0                      4.0           5270.0   \n",
              "3                            1.0                      6.0            734.0   \n",
              "4                           16.0                     35.0            884.0   \n",
              "\n",
              "   longitud_cm_producto  altura_cm_producto  ancho_cm_producto  \n",
              "0                  17.0                11.0               14.0  \n",
              "1                  43.0                 2.0               21.0  \n",
              "2                   9.0                27.0               29.0  \n",
              "3                  46.0                48.0               22.0  \n",
              "4                  45.0                26.0               18.0  "
            ],
            "text/html": [
              "\n",
              "  <div id=\"df-b7dad6c8-8b90-426a-8a65-eed2a8c23c6a\">\n",
              "    <div class=\"colab-df-container\">\n",
              "      <div>\n",
              "<style scoped>\n",
              "    .dataframe tbody tr th:only-of-type {\n",
              "        vertical-align: middle;\n",
              "    }\n",
              "\n",
              "    .dataframe tbody tr th {\n",
              "        vertical-align: top;\n",
              "    }\n",
              "\n",
              "    .dataframe thead th {\n",
              "        text-align: right;\n",
              "    }\n",
              "</style>\n",
              "<table border=\"1\" class=\"dataframe\">\n",
              "  <thead>\n",
              "    <tr style=\"text-align: right;\">\n",
              "      <th></th>\n",
              "      <th>orden_id</th>\n",
              "      <th>order_item_id</th>\n",
              "      <th>producto_id</th>\n",
              "      <th>vendedor_id</th>\n",
              "      <th>fecha_envio_limite</th>\n",
              "      <th>precio</th>\n",
              "      <th>valor_flete</th>\n",
              "      <th>codigo_postal_vendedor</th>\n",
              "      <th>ciudad_vendedor</th>\n",
              "      <th>departamento_vendedor</th>\n",
              "      <th>nombre_categoria_producto</th>\n",
              "      <th>longitud_nombre_producto</th>\n",
              "      <th>longitud_descripcion_producto</th>\n",
              "      <th>cantidad_fotos_producto</th>\n",
              "      <th>peso_g_producto</th>\n",
              "      <th>longitud_cm_producto</th>\n",
              "      <th>altura_cm_producto</th>\n",
              "      <th>ancho_cm_producto</th>\n",
              "    </tr>\n",
              "  </thead>\n",
              "  <tbody>\n",
              "    <tr>\n",
              "      <th>0</th>\n",
              "      <td>107500PO59A</td>\n",
              "      <td>A</td>\n",
              "      <td>PO59</td>\n",
              "      <td>VE5389</td>\n",
              "      <td>7/04/2018 18:12</td>\n",
              "      <td>271.86</td>\n",
              "      <td>30.72</td>\n",
              "      <td>52435</td>\n",
              "      <td>Mallama</td>\n",
              "      <td>Nariño</td>\n",
              "      <td>Productos ecoamigables</td>\n",
              "      <td>6.0</td>\n",
              "      <td>7.0</td>\n",
              "      <td>27.0</td>\n",
              "      <td>2486.0</td>\n",
              "      <td>17.0</td>\n",
              "      <td>11.0</td>\n",
              "      <td>14.0</td>\n",
              "    </tr>\n",
              "    <tr>\n",
              "      <th>1</th>\n",
              "      <td>37493PS22B</td>\n",
              "      <td>B</td>\n",
              "      <td>PS22</td>\n",
              "      <td>VE1558</td>\n",
              "      <td>20/10/2017 9:07</td>\n",
              "      <td>115.73</td>\n",
              "      <td>4.68</td>\n",
              "      <td>52203</td>\n",
              "      <td>Colon</td>\n",
              "      <td>Nariño</td>\n",
              "      <td>Carnicería</td>\n",
              "      <td>10.0</td>\n",
              "      <td>31.0</td>\n",
              "      <td>20.0</td>\n",
              "      <td>256.0</td>\n",
              "      <td>43.0</td>\n",
              "      <td>2.0</td>\n",
              "      <td>21.0</td>\n",
              "    </tr>\n",
              "    <tr>\n",
              "      <th>2</th>\n",
              "      <td>28050PK20B</td>\n",
              "      <td>B</td>\n",
              "      <td>PK20</td>\n",
              "      <td>VE9159</td>\n",
              "      <td>17/08/2017 8:15</td>\n",
              "      <td>432.99</td>\n",
              "      <td>82.70</td>\n",
              "      <td>66001</td>\n",
              "      <td>Pereira</td>\n",
              "      <td>Risaralda</td>\n",
              "      <td>Deportes</td>\n",
              "      <td>25.0</td>\n",
              "      <td>5.0</td>\n",
              "      <td>4.0</td>\n",
              "      <td>5270.0</td>\n",
              "      <td>9.0</td>\n",
              "      <td>27.0</td>\n",
              "      <td>29.0</td>\n",
              "    </tr>\n",
              "    <tr>\n",
              "      <th>3</th>\n",
              "      <td>52187PA10A</td>\n",
              "      <td>A</td>\n",
              "      <td>PA10</td>\n",
              "      <td>VE3159</td>\n",
              "      <td>23/09/2017 23:27</td>\n",
              "      <td>108.38</td>\n",
              "      <td>35.39</td>\n",
              "      <td>52435</td>\n",
              "      <td>Mallama</td>\n",
              "      <td>Nariño</td>\n",
              "      <td>Electrodomésticos</td>\n",
              "      <td>10.0</td>\n",
              "      <td>1.0</td>\n",
              "      <td>6.0</td>\n",
              "      <td>734.0</td>\n",
              "      <td>46.0</td>\n",
              "      <td>48.0</td>\n",
              "      <td>22.0</td>\n",
              "    </tr>\n",
              "    <tr>\n",
              "      <th>4</th>\n",
              "      <td>84639PR12A</td>\n",
              "      <td>A</td>\n",
              "      <td>PR12</td>\n",
              "      <td>VE5090</td>\n",
              "      <td>7/01/2018 11:50</td>\n",
              "      <td>51.50</td>\n",
              "      <td>11.10</td>\n",
              "      <td>73001</td>\n",
              "      <td>Ibague</td>\n",
              "      <td>Tolima</td>\n",
              "      <td>Frutas y verduras</td>\n",
              "      <td>23.0</td>\n",
              "      <td>16.0</td>\n",
              "      <td>35.0</td>\n",
              "      <td>884.0</td>\n",
              "      <td>45.0</td>\n",
              "      <td>26.0</td>\n",
              "      <td>18.0</td>\n",
              "    </tr>\n",
              "  </tbody>\n",
              "</table>\n",
              "</div>\n",
              "      <button class=\"colab-df-convert\" onclick=\"convertToInteractive('df-b7dad6c8-8b90-426a-8a65-eed2a8c23c6a')\"\n",
              "              title=\"Convert this dataframe to an interactive table.\"\n",
              "              style=\"display:none;\">\n",
              "        \n",
              "  <svg xmlns=\"http://www.w3.org/2000/svg\" height=\"24px\"viewBox=\"0 0 24 24\"\n",
              "       width=\"24px\">\n",
              "    <path d=\"M0 0h24v24H0V0z\" fill=\"none\"/>\n",
              "    <path d=\"M18.56 5.44l.94 2.06.94-2.06 2.06-.94-2.06-.94-.94-2.06-.94 2.06-2.06.94zm-11 1L8.5 8.5l.94-2.06 2.06-.94-2.06-.94L8.5 2.5l-.94 2.06-2.06.94zm10 10l.94 2.06.94-2.06 2.06-.94-2.06-.94-.94-2.06-.94 2.06-2.06.94z\"/><path d=\"M17.41 7.96l-1.37-1.37c-.4-.4-.92-.59-1.43-.59-.52 0-1.04.2-1.43.59L10.3 9.45l-7.72 7.72c-.78.78-.78 2.05 0 2.83L4 21.41c.39.39.9.59 1.41.59.51 0 1.02-.2 1.41-.59l7.78-7.78 2.81-2.81c.8-.78.8-2.07 0-2.86zM5.41 20L4 18.59l7.72-7.72 1.47 1.35L5.41 20z\"/>\n",
              "  </svg>\n",
              "      </button>\n",
              "      \n",
              "  <style>\n",
              "    .colab-df-container {\n",
              "      display:flex;\n",
              "      flex-wrap:wrap;\n",
              "      gap: 12px;\n",
              "    }\n",
              "\n",
              "    .colab-df-convert {\n",
              "      background-color: #E8F0FE;\n",
              "      border: none;\n",
              "      border-radius: 50%;\n",
              "      cursor: pointer;\n",
              "      display: none;\n",
              "      fill: #1967D2;\n",
              "      height: 32px;\n",
              "      padding: 0 0 0 0;\n",
              "      width: 32px;\n",
              "    }\n",
              "\n",
              "    .colab-df-convert:hover {\n",
              "      background-color: #E2EBFA;\n",
              "      box-shadow: 0px 1px 2px rgba(60, 64, 67, 0.3), 0px 1px 3px 1px rgba(60, 64, 67, 0.15);\n",
              "      fill: #174EA6;\n",
              "    }\n",
              "\n",
              "    [theme=dark] .colab-df-convert {\n",
              "      background-color: #3B4455;\n",
              "      fill: #D2E3FC;\n",
              "    }\n",
              "\n",
              "    [theme=dark] .colab-df-convert:hover {\n",
              "      background-color: #434B5C;\n",
              "      box-shadow: 0px 1px 3px 1px rgba(0, 0, 0, 0.15);\n",
              "      filter: drop-shadow(0px 1px 2px rgba(0, 0, 0, 0.3));\n",
              "      fill: #FFFFFF;\n",
              "    }\n",
              "  </style>\n",
              "\n",
              "      <script>\n",
              "        const buttonEl =\n",
              "          document.querySelector('#df-b7dad6c8-8b90-426a-8a65-eed2a8c23c6a button.colab-df-convert');\n",
              "        buttonEl.style.display =\n",
              "          google.colab.kernel.accessAllowed ? 'block' : 'none';\n",
              "\n",
              "        async function convertToInteractive(key) {\n",
              "          const element = document.querySelector('#df-b7dad6c8-8b90-426a-8a65-eed2a8c23c6a');\n",
              "          const dataTable =\n",
              "            await google.colab.kernel.invokeFunction('convertToInteractive',\n",
              "                                                     [key], {});\n",
              "          if (!dataTable) return;\n",
              "\n",
              "          const docLinkHtml = 'Like what you see? Visit the ' +\n",
              "            '<a target=\"_blank\" href=https://colab.research.google.com/notebooks/data_table.ipynb>data table notebook</a>'\n",
              "            + ' to learn more about interactive tables.';\n",
              "          element.innerHTML = '';\n",
              "          dataTable['output_type'] = 'display_data';\n",
              "          await google.colab.output.renderOutput(dataTable, element);\n",
              "          const docLink = document.createElement('div');\n",
              "          docLink.innerHTML = docLinkHtml;\n",
              "          element.appendChild(docLink);\n",
              "        }\n",
              "      </script>\n",
              "    </div>\n",
              "  </div>\n",
              "  "
            ]
          },
          "metadata": {},
          "execution_count": 2
        }
      ],
      "source": [
        "# cargar los datos en csv\n",
        "data= pd.read_csv('Ordenes_productos_C1_M2.3.csv', sep=';',encoding='latin-1')\n",
        "# Visualizar los datos\n",
        "data.head()"
      ]
    },
    {
      "cell_type": "markdown",
      "metadata": {
        "id": "i8Ac0V6JXzFp"
      },
      "source": [
        "### 3.Tipos de datos\n",
        "\n",
        "Los tipos de datos nos dan el lineamiento de qué tipo de análisis se puede realizar estos datos se pueden dividir en 2 categorías\n",
        "\n",
        "1. Datos categóricos:\n",
        "Los datos categóricos representan características. Por lo tanto, puede representar cosas como el género, el idioma, etc. de una persona. Los datos categóricos también pueden tomar valores numéricos (ejemplo: 1 para mujeres y 0 para hombres). Tenga en cuenta que esos números no tienen un significado matemático.\n",
        "\n",
        "2. Datos numéricos:\n",
        "Los datos numéricos son un tipo de datos expresados ​​en números, en lugar de una descripción en lenguaje natural. A veces llamados datos cuantitativos, los datos numéricos siempre se recopilan en forma de números. Los datos numéricos se diferencian de otros tipos de datos en forma de números por su capacidad para realizar operaciones aritméticas con estos números.\n"
      ]
    },
    {
      "cell_type": "code",
      "execution_count": 3,
      "metadata": {
        "scrolled": true,
        "colab": {
          "base_uri": "https://localhost:8080/"
        },
        "id": "anErKpkrXzFq",
        "outputId": "f23e03f6-78c7-41b1-dcd1-076186c4de9e"
      },
      "outputs": [
        {
          "output_type": "execute_result",
          "data": {
            "text/plain": [
              "orden_id                          object\n",
              "order_item_id                     object\n",
              "producto_id                       object\n",
              "vendedor_id                       object\n",
              "fecha_envio_limite                object\n",
              "precio                           float64\n",
              "valor_flete                      float64\n",
              "codigo_postal_vendedor             int64\n",
              "ciudad_vendedor                   object\n",
              "departamento_vendedor             object\n",
              "nombre_categoria_producto         object\n",
              "longitud_nombre_producto         float64\n",
              "longitud_descripcion_producto    float64\n",
              "cantidad_fotos_producto          float64\n",
              "peso_g_producto                  float64\n",
              "longitud_cm_producto             float64\n",
              "altura_cm_producto               float64\n",
              "ancho_cm_producto                float64\n",
              "dtype: object"
            ]
          },
          "metadata": {},
          "execution_count": 3
        }
      ],
      "source": [
        "# Revisar los tipos de datos del dataset\n",
        "data.dtypes"
      ]
    },
    {
      "cell_type": "markdown",
      "metadata": {
        "id": "gIdgrOlgXzFr"
      },
      "source": [
        "Vemos que python presenta los datos, en este caso, como: object, float64 e int64 donde estos dos últimos se refieren a datos numéricos, y el otro tipo a datos categóricos.\n",
        "\n",
        "Sin embargo cabe resaltar que **codigo_postal_vendedor** que es un identificador de la orden lo está tomando como un dato numérico\n"
      ]
    },
    {
      "cell_type": "code",
      "execution_count": 4,
      "metadata": {
        "scrolled": true,
        "colab": {
          "base_uri": "https://localhost:8080/"
        },
        "id": "qwLN9kGhXzFr",
        "outputId": "d41970e9-5182-411c-9e7f-d433d0d2a7a5"
      },
      "outputs": [
        {
          "output_type": "execute_result",
          "data": {
            "text/plain": [
              "count    10134.000000\n",
              "mean     49991.684626\n",
              "std      22463.895340\n",
              "min       5001.000000\n",
              "25%      50001.000000\n",
              "50%      52323.000000\n",
              "75%      54003.000000\n",
              "max      99001.000000\n",
              "Name: codigo_postal_vendedor, dtype: float64"
            ]
          },
          "metadata": {},
          "execution_count": 4
        }
      ],
      "source": [
        "# Obtener estadísticas básica\n",
        "data['codigo_postal_vendedor'].describe()"
      ]
    },
    {
      "cell_type": "markdown",
      "metadata": {
        "id": "em7mj2XaXzFs"
      },
      "source": [
        "# ¡Cuidado con este error de interpretación!\n",
        "\n",
        "Al ser un dato de identificación es un dato categórico y no tiene ninguna interpretación describir las estadísticas descriptivas básicas"
      ]
    },
    {
      "cell_type": "code",
      "execution_count": 5,
      "metadata": {
        "colab": {
          "base_uri": "https://localhost:8080/"
        },
        "id": "SlEIiRCJXzFs",
        "outputId": "877a31c0-a3e3-4c6c-a4b5-4570e4c9ab04"
      },
      "outputs": [
        {
          "output_type": "execute_result",
          "data": {
            "text/plain": [
              "orden_id                          object\n",
              "order_item_id                     object\n",
              "producto_id                       object\n",
              "vendedor_id                       object\n",
              "fecha_envio_limite                object\n",
              "precio                           float64\n",
              "valor_flete                      float64\n",
              "codigo_postal_vendedor            object\n",
              "ciudad_vendedor                   object\n",
              "departamento_vendedor             object\n",
              "nombre_categoria_producto         object\n",
              "longitud_nombre_producto         float64\n",
              "longitud_descripcion_producto    float64\n",
              "cantidad_fotos_producto          float64\n",
              "peso_g_producto                  float64\n",
              "longitud_cm_producto             float64\n",
              "altura_cm_producto               float64\n",
              "ancho_cm_producto                float64\n",
              "dtype: object"
            ]
          },
          "metadata": {},
          "execution_count": 5
        }
      ],
      "source": [
        "# lo mejor es convertirlo en categórico\n",
        "data['codigo_postal_vendedor']=data['codigo_postal_vendedor'].astype(str)\n",
        "data.dtypes"
      ]
    },
    {
      "cell_type": "markdown",
      "metadata": {
        "id": "H0w60iJ7XzFt"
      },
      "source": [
        "### 4. Datos nulos\n",
        "\n",
        "Los datos nulos son los registros que por cualquier razón no registran ningún dato, que por lo tanto van a generar un ruido o un sesgo (dependiendo del análisis) y que va a alterar el manejo de los datos para realizar análisis de alto nivel\n",
        "\n",
        "**Contexto:** No existen datos faltantes en la base, ya que si no están los datos de las órdenes no es posible encontrar cómo realizar el envío"
      ]
    },
    {
      "cell_type": "code",
      "execution_count": 6,
      "metadata": {
        "scrolled": false,
        "colab": {
          "base_uri": "https://localhost:8080/"
        },
        "id": "6aK49Z21XzFt",
        "outputId": "fa7c0ed0-b242-4d76-bd5c-6556dd63e04f"
      },
      "outputs": [
        {
          "output_type": "execute_result",
          "data": {
            "text/plain": [
              "orden_id                         0.00000\n",
              "order_item_id                    0.00000\n",
              "producto_id                      0.00000\n",
              "vendedor_id                      0.00000\n",
              "fecha_envio_limite               0.00000\n",
              "precio                           0.00000\n",
              "valor_flete                      0.00000\n",
              "codigo_postal_vendedor           0.00000\n",
              "ciudad_vendedor                  0.00000\n",
              "departamento_vendedor            0.00000\n",
              "nombre_categoria_producto        0.00227\n",
              "longitud_nombre_producto         0.00227\n",
              "longitud_descripcion_producto    0.00227\n",
              "cantidad_fotos_producto          0.00227\n",
              "peso_g_producto                  0.00227\n",
              "longitud_cm_producto             0.00227\n",
              "altura_cm_producto               0.00227\n",
              "ancho_cm_producto                0.00227\n",
              "dtype: float64"
            ]
          },
          "metadata": {},
          "execution_count": 6
        }
      ],
      "source": [
        "## Función para revisar nulos\n",
        "# Muestra variable por variable qué porcentaje de nulos se tienen\n",
        "data.isna().sum()/len(data)"
      ]
    },
    {
      "cell_type": "code",
      "execution_count": 7,
      "metadata": {
        "colab": {
          "base_uri": "https://localhost:8080/"
        },
        "id": "IQU2ShlMXzFt",
        "outputId": "721ec41d-d015-46e6-dfde-acf50827d85e"
      },
      "outputs": [
        {
          "output_type": "execute_result",
          "data": {
            "text/plain": [
              "orden_id                          0\n",
              "order_item_id                     0\n",
              "producto_id                       0\n",
              "vendedor_id                       0\n",
              "fecha_envio_limite                0\n",
              "precio                            0\n",
              "valor_flete                       0\n",
              "codigo_postal_vendedor            0\n",
              "ciudad_vendedor                   0\n",
              "departamento_vendedor             0\n",
              "nombre_categoria_producto        23\n",
              "longitud_nombre_producto         23\n",
              "longitud_descripcion_producto    23\n",
              "cantidad_fotos_producto          23\n",
              "peso_g_producto                  23\n",
              "longitud_cm_producto             23\n",
              "altura_cm_producto               23\n",
              "ancho_cm_producto                23\n",
              "dtype: int64"
            ]
          },
          "metadata": {},
          "execution_count": 7
        }
      ],
      "source": [
        "data.isna().sum()"
      ]
    },
    {
      "cell_type": "code",
      "execution_count": 8,
      "metadata": {
        "colab": {
          "base_uri": "https://localhost:8080/"
        },
        "id": "a_t45BF6XzFu",
        "outputId": "983c389c-c80e-4993-fc1a-c1779cef7927"
      },
      "outputs": [
        {
          "output_type": "execute_result",
          "data": {
            "text/plain": [
              "(10134, 18)"
            ]
          },
          "metadata": {},
          "execution_count": 8
        }
      ],
      "source": [
        "data.shape"
      ]
    },
    {
      "cell_type": "markdown",
      "metadata": {
        "id": "jgXC5PHdXzFu"
      },
      "source": [
        "Las variables involucradas apenas tienen data faltante menor al 1%, por lo tanto se debe decidir cuál criterio utilizar para la data faltante\n",
        "\n",
        "1. Métodos de eliminacion\n",
        "\n",
        "Los métodos de eliminación solo funcionan para determinados conjuntos de datos en los que a los participantes les faltan campos. Hay varios métodos de eliminación: dos comunes incluyen la eliminación por lista y la eliminación por pares. Significa eliminar cualquier participante o entrada de datos con valores perdidos. La eliminación por pares es el proceso de eliminar información cuando falta un punto de datos en particular, vital para las pruebas. La eliminación por pares guarda más datos en comparación con la eliminación similar porque la primera solo elimina las entradas donde las variables eran necesarias para la prueba, mientras que la última elimina las entradas completas si falta algún dato, independientemente de su importancia.\n",
        "\n",
        "2. Análisis de regresión\n",
        "\n",
        "La regresión es útil para manejar datos faltantes porque puede usarse para predecir el valor nulo usando otra información del conjunto de datos. Los métodos de regresión pueden tener éxito para encontrar los datos faltantes, pero esto depende en gran medida de qué tan bien conectados estén los datos restantes. \n",
        "\n",
        "3. Técnicas de imputación de datos\n",
        "\n",
        "La imputación promedio utiliza el valor promedio de las respuestas de otras entradas de datos para completar los valores faltantes. La imputación de punto comúnes cuando los datos utilizan el punto medio o el valor elegido con más frecuencia. \n",
        "\n",
        "4. Mantener los vacíos\n",
        "\n",
        "No podemos evitar situaciones como estas por completo porque hay varios pasos correctivos que los científicos de datos deben tomar para asegurarse de que no afecten negativamente el proceso de análisis. \n",
        "\n",
        "**Análisis:** En este caso al no contar con el nombre, categoría ni medidas del producto es necesario eliminar estos registros, así como la orden creada y hablar con los clientes para generar la devolución de su dinero"
      ]
    },
    {
      "cell_type": "code",
      "execution_count": 9,
      "metadata": {
        "scrolled": true,
        "colab": {
          "base_uri": "https://localhost:8080/"
        },
        "id": "bvOUzYFdXzFu",
        "outputId": "21925cc2-2d9b-4dd9-94e9-0d92c20da676"
      },
      "outputs": [
        {
          "output_type": "execute_result",
          "data": {
            "text/plain": [
              "(10111, 18)"
            ]
          },
          "metadata": {},
          "execution_count": 9
        }
      ],
      "source": [
        "# eliminar los datos vacío\n",
        "data=data.dropna()\n",
        "data.shape"
      ]
    },
    {
      "cell_type": "markdown",
      "metadata": {
        "id": "f9Svt5gyXzFv"
      },
      "source": [
        "### 4. Duplicados\n",
        "\n",
        "Identificar los datos (registros) que por alguna razón tienen columnas repetidas en todas las variables, es decir está generando data erronea ya que está mostrando datos que ya están en la base\n",
        "\n",
        "**Contexto:** Existen órdenes duplicadas para realizar los envíos"
      ]
    },
    {
      "cell_type": "code",
      "execution_count": 10,
      "metadata": {
        "scrolled": true,
        "colab": {
          "base_uri": "https://localhost:8080/"
        },
        "id": "wPTcHpX4XzFv",
        "outputId": "6e048c6b-dea7-486b-b9d4-d16f96def858"
      },
      "outputs": [
        {
          "output_type": "execute_result",
          "data": {
            "text/plain": [
              "0        False\n",
              "1        False\n",
              "2        False\n",
              "3        False\n",
              "4        False\n",
              "         ...  \n",
              "10129    False\n",
              "10130    False\n",
              "10131    False\n",
              "10132    False\n",
              "10133    False\n",
              "Length: 10111, dtype: bool"
            ]
          },
          "metadata": {},
          "execution_count": 10
        }
      ],
      "source": [
        "#Revisar cuáles registros están duplicados\n",
        "data.duplicated()"
      ]
    },
    {
      "cell_type": "code",
      "execution_count": 11,
      "metadata": {
        "colab": {
          "base_uri": "https://localhost:8080/",
          "height": 270
        },
        "id": "Esxcz5V5XzFv",
        "outputId": "d0538f1f-8258-4b78-bb96-423352487b68"
      },
      "outputs": [
        {
          "output_type": "execute_result",
          "data": {
            "text/plain": [
              "      orden_id order_item_id producto_id vendedor_id fecha_envio_limite  \\\n",
              "0  107500PO59A             A        PO59      VE5389    7/04/2018 18:12   \n",
              "1   37493PS22B             B        PS22      VE1558    20/10/2017 9:07   \n",
              "2   28050PK20B             B        PK20      VE9159    17/08/2017 8:15   \n",
              "3   52187PA10A             A        PA10      VE3159   23/09/2017 23:27   \n",
              "4   84639PR12A             A        PR12      VE5090    7/01/2018 11:50   \n",
              "\n",
              "   precio  valor_flete codigo_postal_vendedor ciudad_vendedor  \\\n",
              "0  271.86        30.72                  52435         Mallama   \n",
              "1  115.73         4.68                  52203           Colon   \n",
              "2  432.99        82.70                  66001         Pereira   \n",
              "3  108.38        35.39                  52435         Mallama   \n",
              "4   51.50        11.10                  73001          Ibague   \n",
              "\n",
              "  departamento_vendedor nombre_categoria_producto  longitud_nombre_producto  \\\n",
              "0                Nariño    Productos ecoamigables                       6.0   \n",
              "1                Nariño                Carnicería                      10.0   \n",
              "2             Risaralda                  Deportes                      25.0   \n",
              "3                Nariño         Electrodomésticos                      10.0   \n",
              "4                Tolima         Frutas y verduras                      23.0   \n",
              "\n",
              "   longitud_descripcion_producto  cantidad_fotos_producto  peso_g_producto  \\\n",
              "0                            7.0                     27.0           2486.0   \n",
              "1                           31.0                     20.0            256.0   \n",
              "2                            5.0                      4.0           5270.0   \n",
              "3                            1.0                      6.0            734.0   \n",
              "4                           16.0                     35.0            884.0   \n",
              "\n",
              "   longitud_cm_producto  altura_cm_producto  ancho_cm_producto  \n",
              "0                  17.0                11.0               14.0  \n",
              "1                  43.0                 2.0               21.0  \n",
              "2                   9.0                27.0               29.0  \n",
              "3                  46.0                48.0               22.0  \n",
              "4                  45.0                26.0               18.0  "
            ],
            "text/html": [
              "\n",
              "  <div id=\"df-2b18f751-f2ba-4e61-bcbe-1243675256cf\">\n",
              "    <div class=\"colab-df-container\">\n",
              "      <div>\n",
              "<style scoped>\n",
              "    .dataframe tbody tr th:only-of-type {\n",
              "        vertical-align: middle;\n",
              "    }\n",
              "\n",
              "    .dataframe tbody tr th {\n",
              "        vertical-align: top;\n",
              "    }\n",
              "\n",
              "    .dataframe thead th {\n",
              "        text-align: right;\n",
              "    }\n",
              "</style>\n",
              "<table border=\"1\" class=\"dataframe\">\n",
              "  <thead>\n",
              "    <tr style=\"text-align: right;\">\n",
              "      <th></th>\n",
              "      <th>orden_id</th>\n",
              "      <th>order_item_id</th>\n",
              "      <th>producto_id</th>\n",
              "      <th>vendedor_id</th>\n",
              "      <th>fecha_envio_limite</th>\n",
              "      <th>precio</th>\n",
              "      <th>valor_flete</th>\n",
              "      <th>codigo_postal_vendedor</th>\n",
              "      <th>ciudad_vendedor</th>\n",
              "      <th>departamento_vendedor</th>\n",
              "      <th>nombre_categoria_producto</th>\n",
              "      <th>longitud_nombre_producto</th>\n",
              "      <th>longitud_descripcion_producto</th>\n",
              "      <th>cantidad_fotos_producto</th>\n",
              "      <th>peso_g_producto</th>\n",
              "      <th>longitud_cm_producto</th>\n",
              "      <th>altura_cm_producto</th>\n",
              "      <th>ancho_cm_producto</th>\n",
              "    </tr>\n",
              "  </thead>\n",
              "  <tbody>\n",
              "    <tr>\n",
              "      <th>0</th>\n",
              "      <td>107500PO59A</td>\n",
              "      <td>A</td>\n",
              "      <td>PO59</td>\n",
              "      <td>VE5389</td>\n",
              "      <td>7/04/2018 18:12</td>\n",
              "      <td>271.86</td>\n",
              "      <td>30.72</td>\n",
              "      <td>52435</td>\n",
              "      <td>Mallama</td>\n",
              "      <td>Nariño</td>\n",
              "      <td>Productos ecoamigables</td>\n",
              "      <td>6.0</td>\n",
              "      <td>7.0</td>\n",
              "      <td>27.0</td>\n",
              "      <td>2486.0</td>\n",
              "      <td>17.0</td>\n",
              "      <td>11.0</td>\n",
              "      <td>14.0</td>\n",
              "    </tr>\n",
              "    <tr>\n",
              "      <th>1</th>\n",
              "      <td>37493PS22B</td>\n",
              "      <td>B</td>\n",
              "      <td>PS22</td>\n",
              "      <td>VE1558</td>\n",
              "      <td>20/10/2017 9:07</td>\n",
              "      <td>115.73</td>\n",
              "      <td>4.68</td>\n",
              "      <td>52203</td>\n",
              "      <td>Colon</td>\n",
              "      <td>Nariño</td>\n",
              "      <td>Carnicería</td>\n",
              "      <td>10.0</td>\n",
              "      <td>31.0</td>\n",
              "      <td>20.0</td>\n",
              "      <td>256.0</td>\n",
              "      <td>43.0</td>\n",
              "      <td>2.0</td>\n",
              "      <td>21.0</td>\n",
              "    </tr>\n",
              "    <tr>\n",
              "      <th>2</th>\n",
              "      <td>28050PK20B</td>\n",
              "      <td>B</td>\n",
              "      <td>PK20</td>\n",
              "      <td>VE9159</td>\n",
              "      <td>17/08/2017 8:15</td>\n",
              "      <td>432.99</td>\n",
              "      <td>82.70</td>\n",
              "      <td>66001</td>\n",
              "      <td>Pereira</td>\n",
              "      <td>Risaralda</td>\n",
              "      <td>Deportes</td>\n",
              "      <td>25.0</td>\n",
              "      <td>5.0</td>\n",
              "      <td>4.0</td>\n",
              "      <td>5270.0</td>\n",
              "      <td>9.0</td>\n",
              "      <td>27.0</td>\n",
              "      <td>29.0</td>\n",
              "    </tr>\n",
              "    <tr>\n",
              "      <th>3</th>\n",
              "      <td>52187PA10A</td>\n",
              "      <td>A</td>\n",
              "      <td>PA10</td>\n",
              "      <td>VE3159</td>\n",
              "      <td>23/09/2017 23:27</td>\n",
              "      <td>108.38</td>\n",
              "      <td>35.39</td>\n",
              "      <td>52435</td>\n",
              "      <td>Mallama</td>\n",
              "      <td>Nariño</td>\n",
              "      <td>Electrodomésticos</td>\n",
              "      <td>10.0</td>\n",
              "      <td>1.0</td>\n",
              "      <td>6.0</td>\n",
              "      <td>734.0</td>\n",
              "      <td>46.0</td>\n",
              "      <td>48.0</td>\n",
              "      <td>22.0</td>\n",
              "    </tr>\n",
              "    <tr>\n",
              "      <th>4</th>\n",
              "      <td>84639PR12A</td>\n",
              "      <td>A</td>\n",
              "      <td>PR12</td>\n",
              "      <td>VE5090</td>\n",
              "      <td>7/01/2018 11:50</td>\n",
              "      <td>51.50</td>\n",
              "      <td>11.10</td>\n",
              "      <td>73001</td>\n",
              "      <td>Ibague</td>\n",
              "      <td>Tolima</td>\n",
              "      <td>Frutas y verduras</td>\n",
              "      <td>23.0</td>\n",
              "      <td>16.0</td>\n",
              "      <td>35.0</td>\n",
              "      <td>884.0</td>\n",
              "      <td>45.0</td>\n",
              "      <td>26.0</td>\n",
              "      <td>18.0</td>\n",
              "    </tr>\n",
              "  </tbody>\n",
              "</table>\n",
              "</div>\n",
              "      <button class=\"colab-df-convert\" onclick=\"convertToInteractive('df-2b18f751-f2ba-4e61-bcbe-1243675256cf')\"\n",
              "              title=\"Convert this dataframe to an interactive table.\"\n",
              "              style=\"display:none;\">\n",
              "        \n",
              "  <svg xmlns=\"http://www.w3.org/2000/svg\" height=\"24px\"viewBox=\"0 0 24 24\"\n",
              "       width=\"24px\">\n",
              "    <path d=\"M0 0h24v24H0V0z\" fill=\"none\"/>\n",
              "    <path d=\"M18.56 5.44l.94 2.06.94-2.06 2.06-.94-2.06-.94-.94-2.06-.94 2.06-2.06.94zm-11 1L8.5 8.5l.94-2.06 2.06-.94-2.06-.94L8.5 2.5l-.94 2.06-2.06.94zm10 10l.94 2.06.94-2.06 2.06-.94-2.06-.94-.94-2.06-.94 2.06-2.06.94z\"/><path d=\"M17.41 7.96l-1.37-1.37c-.4-.4-.92-.59-1.43-.59-.52 0-1.04.2-1.43.59L10.3 9.45l-7.72 7.72c-.78.78-.78 2.05 0 2.83L4 21.41c.39.39.9.59 1.41.59.51 0 1.02-.2 1.41-.59l7.78-7.78 2.81-2.81c.8-.78.8-2.07 0-2.86zM5.41 20L4 18.59l7.72-7.72 1.47 1.35L5.41 20z\"/>\n",
              "  </svg>\n",
              "      </button>\n",
              "      \n",
              "  <style>\n",
              "    .colab-df-container {\n",
              "      display:flex;\n",
              "      flex-wrap:wrap;\n",
              "      gap: 12px;\n",
              "    }\n",
              "\n",
              "    .colab-df-convert {\n",
              "      background-color: #E8F0FE;\n",
              "      border: none;\n",
              "      border-radius: 50%;\n",
              "      cursor: pointer;\n",
              "      display: none;\n",
              "      fill: #1967D2;\n",
              "      height: 32px;\n",
              "      padding: 0 0 0 0;\n",
              "      width: 32px;\n",
              "    }\n",
              "\n",
              "    .colab-df-convert:hover {\n",
              "      background-color: #E2EBFA;\n",
              "      box-shadow: 0px 1px 2px rgba(60, 64, 67, 0.3), 0px 1px 3px 1px rgba(60, 64, 67, 0.15);\n",
              "      fill: #174EA6;\n",
              "    }\n",
              "\n",
              "    [theme=dark] .colab-df-convert {\n",
              "      background-color: #3B4455;\n",
              "      fill: #D2E3FC;\n",
              "    }\n",
              "\n",
              "    [theme=dark] .colab-df-convert:hover {\n",
              "      background-color: #434B5C;\n",
              "      box-shadow: 0px 1px 3px 1px rgba(0, 0, 0, 0.15);\n",
              "      filter: drop-shadow(0px 1px 2px rgba(0, 0, 0, 0.3));\n",
              "      fill: #FFFFFF;\n",
              "    }\n",
              "  </style>\n",
              "\n",
              "      <script>\n",
              "        const buttonEl =\n",
              "          document.querySelector('#df-2b18f751-f2ba-4e61-bcbe-1243675256cf button.colab-df-convert');\n",
              "        buttonEl.style.display =\n",
              "          google.colab.kernel.accessAllowed ? 'block' : 'none';\n",
              "\n",
              "        async function convertToInteractive(key) {\n",
              "          const element = document.querySelector('#df-2b18f751-f2ba-4e61-bcbe-1243675256cf');\n",
              "          const dataTable =\n",
              "            await google.colab.kernel.invokeFunction('convertToInteractive',\n",
              "                                                     [key], {});\n",
              "          if (!dataTable) return;\n",
              "\n",
              "          const docLinkHtml = 'Like what you see? Visit the ' +\n",
              "            '<a target=\"_blank\" href=https://colab.research.google.com/notebooks/data_table.ipynb>data table notebook</a>'\n",
              "            + ' to learn more about interactive tables.';\n",
              "          element.innerHTML = '';\n",
              "          dataTable['output_type'] = 'display_data';\n",
              "          await google.colab.output.renderOutput(dataTable, element);\n",
              "          const docLink = document.createElement('div');\n",
              "          docLink.innerHTML = docLinkHtml;\n",
              "          element.appendChild(docLink);\n",
              "        }\n",
              "      </script>\n",
              "    </div>\n",
              "  </div>\n",
              "  "
            ]
          },
          "metadata": {},
          "execution_count": 11
        }
      ],
      "source": [
        "# establecer un método para eliminar duplicados\n",
        "data=data.drop_duplicates()\n",
        "data.head(5)"
      ]
    },
    {
      "cell_type": "code",
      "execution_count": 12,
      "metadata": {
        "scrolled": true,
        "colab": {
          "base_uri": "https://localhost:8080/"
        },
        "id": "bdAYvuuuXzFw",
        "outputId": "ad35956d-21d7-4f8b-9590-01718a4888e2"
      },
      "outputs": [
        {
          "output_type": "execute_result",
          "data": {
            "text/plain": [
              "0"
            ]
          },
          "metadata": {},
          "execution_count": 12
        }
      ],
      "source": [
        "#Mostrar la totalidad de datos duplicados, la función .sum() muestra la suma de registros\n",
        "data.duplicated().sum()"
      ]
    },
    {
      "cell_type": "markdown",
      "metadata": {
        "id": "EqGKWXDYXzFw"
      },
      "source": [
        "**Análisis:** No existen órdenes duplicadas"
      ]
    },
    {
      "cell_type": "markdown",
      "metadata": {
        "id": "Y5Ir7AbFXzFw"
      },
      "source": [
        "### 5. Elegir el formato\n",
        "Cuando se trabaja con datos es posible encontrarse con diferentes tipos de datos y es muy importante encontrar el tipo de dato correcto, es decir, saber si se trabaja con reales, con enteros, categorías, fechas, etc...\n",
        "\n",
        "**Hipótesis:** Es posible realizar el cálculo de la fecha de envío hasta hoy"
      ]
    },
    {
      "cell_type": "code",
      "execution_count": 13,
      "metadata": {
        "colab": {
          "base_uri": "https://localhost:8080/"
        },
        "id": "n1EWJ0ZuXzFw",
        "outputId": "1474dd3e-c47b-477c-87ea-36033d722efd"
      },
      "outputs": [
        {
          "output_type": "execute_result",
          "data": {
            "text/plain": [
              "Timestamp('2022-04-15 22:37:11.956337')"
            ]
          },
          "metadata": {},
          "execution_count": 13
        }
      ],
      "source": [
        "## Arreglo de datos\n",
        "# Se trata de restar dos fechas\n",
        "hoy = pd.to_datetime(\"now\")\n",
        "hoy\n"
      ]
    },
    {
      "cell_type": "code",
      "execution_count": 14,
      "metadata": {
        "colab": {
          "base_uri": "https://localhost:8080/"
        },
        "id": "-_06je0LXzFx",
        "outputId": "45be9de7-6d0c-4ca5-833f-cdedfa06d122"
      },
      "outputs": [
        {
          "output_type": "execute_result",
          "data": {
            "text/plain": [
              "0         7/04/2018 18:12\n",
              "1         20/10/2017 9:07\n",
              "2         17/08/2017 8:15\n",
              "3        23/09/2017 23:27\n",
              "4         7/01/2018 11:50\n",
              "               ...       \n",
              "10129     1/04/2018 11:38\n",
              "10130    21/10/2017 17:09\n",
              "10131     10/10/2017 8:37\n",
              "10132     13/11/2017 3:20\n",
              "10133    26/12/2017 19:34\n",
              "Name: fecha_envio_limite, Length: 10111, dtype: object"
            ]
          },
          "metadata": {},
          "execution_count": 14
        }
      ],
      "source": [
        "#restar los días que hay entre hoy y la fecha de pedido\n",
        "data['fecha_envio_limite']"
      ]
    },
    {
      "cell_type": "code",
      "execution_count": 15,
      "metadata": {
        "scrolled": false,
        "colab": {
          "base_uri": "https://localhost:8080/",
          "height": 325
        },
        "id": "lGIvm8KsXzFx",
        "outputId": "6cd1c11b-7945-49db-e141-a16a276f5c0b"
      },
      "outputs": [
        {
          "output_type": "error",
          "ename": "TypeError",
          "evalue": "ignored",
          "traceback": [
            "\u001b[0;31m---------------------------------------------------------------------------\u001b[0m",
            "\u001b[0;31mTypeError\u001b[0m                                 Traceback (most recent call last)",
            "\u001b[0;32m<ipython-input-15-935b684f2040>\u001b[0m in \u001b[0;36m<module>\u001b[0;34m()\u001b[0m\n\u001b[0;32m----> 1\u001b[0;31m \u001b[0mdata\u001b[0m\u001b[0;34m[\u001b[0m\u001b[0;34m'fecha_envio_limite'\u001b[0m\u001b[0;34m]\u001b[0m\u001b[0;34m-\u001b[0m\u001b[0mhoy\u001b[0m\u001b[0;34m\u001b[0m\u001b[0;34m\u001b[0m\u001b[0m\n\u001b[0m",
            "\u001b[0;32m/usr/local/lib/python3.7/dist-packages/pandas/core/ops/common.py\u001b[0m in \u001b[0;36mnew_method\u001b[0;34m(self, other)\u001b[0m\n\u001b[1;32m     67\u001b[0m         \u001b[0mother\u001b[0m \u001b[0;34m=\u001b[0m \u001b[0mitem_from_zerodim\u001b[0m\u001b[0;34m(\u001b[0m\u001b[0mother\u001b[0m\u001b[0;34m)\u001b[0m\u001b[0;34m\u001b[0m\u001b[0;34m\u001b[0m\u001b[0m\n\u001b[1;32m     68\u001b[0m \u001b[0;34m\u001b[0m\u001b[0m\n\u001b[0;32m---> 69\u001b[0;31m         \u001b[0;32mreturn\u001b[0m \u001b[0mmethod\u001b[0m\u001b[0;34m(\u001b[0m\u001b[0mself\u001b[0m\u001b[0;34m,\u001b[0m \u001b[0mother\u001b[0m\u001b[0;34m)\u001b[0m\u001b[0;34m\u001b[0m\u001b[0;34m\u001b[0m\u001b[0m\n\u001b[0m\u001b[1;32m     70\u001b[0m \u001b[0;34m\u001b[0m\u001b[0m\n\u001b[1;32m     71\u001b[0m     \u001b[0;32mreturn\u001b[0m \u001b[0mnew_method\u001b[0m\u001b[0;34m\u001b[0m\u001b[0;34m\u001b[0m\u001b[0m\n",
            "\u001b[0;32m/usr/local/lib/python3.7/dist-packages/pandas/core/arraylike.py\u001b[0m in \u001b[0;36m__sub__\u001b[0;34m(self, other)\u001b[0m\n\u001b[1;32m     98\u001b[0m     \u001b[0;34m@\u001b[0m\u001b[0munpack_zerodim_and_defer\u001b[0m\u001b[0;34m(\u001b[0m\u001b[0;34m\"__sub__\"\u001b[0m\u001b[0;34m)\u001b[0m\u001b[0;34m\u001b[0m\u001b[0;34m\u001b[0m\u001b[0m\n\u001b[1;32m     99\u001b[0m     \u001b[0;32mdef\u001b[0m \u001b[0m__sub__\u001b[0m\u001b[0;34m(\u001b[0m\u001b[0mself\u001b[0m\u001b[0;34m,\u001b[0m \u001b[0mother\u001b[0m\u001b[0;34m)\u001b[0m\u001b[0;34m:\u001b[0m\u001b[0;34m\u001b[0m\u001b[0;34m\u001b[0m\u001b[0m\n\u001b[0;32m--> 100\u001b[0;31m         \u001b[0;32mreturn\u001b[0m \u001b[0mself\u001b[0m\u001b[0;34m.\u001b[0m\u001b[0m_arith_method\u001b[0m\u001b[0;34m(\u001b[0m\u001b[0mother\u001b[0m\u001b[0;34m,\u001b[0m \u001b[0moperator\u001b[0m\u001b[0;34m.\u001b[0m\u001b[0msub\u001b[0m\u001b[0;34m)\u001b[0m\u001b[0;34m\u001b[0m\u001b[0;34m\u001b[0m\u001b[0m\n\u001b[0m\u001b[1;32m    101\u001b[0m \u001b[0;34m\u001b[0m\u001b[0m\n\u001b[1;32m    102\u001b[0m     \u001b[0;34m@\u001b[0m\u001b[0munpack_zerodim_and_defer\u001b[0m\u001b[0;34m(\u001b[0m\u001b[0;34m\"__rsub__\"\u001b[0m\u001b[0;34m)\u001b[0m\u001b[0;34m\u001b[0m\u001b[0;34m\u001b[0m\u001b[0m\n",
            "\u001b[0;32m/usr/local/lib/python3.7/dist-packages/pandas/core/series.py\u001b[0m in \u001b[0;36m_arith_method\u001b[0;34m(self, other, op)\u001b[0m\n\u001b[1;32m   5524\u001b[0m \u001b[0;34m\u001b[0m\u001b[0m\n\u001b[1;32m   5525\u001b[0m         \u001b[0;32mwith\u001b[0m \u001b[0mnp\u001b[0m\u001b[0;34m.\u001b[0m\u001b[0merrstate\u001b[0m\u001b[0;34m(\u001b[0m\u001b[0mall\u001b[0m\u001b[0;34m=\u001b[0m\u001b[0;34m\"ignore\"\u001b[0m\u001b[0;34m)\u001b[0m\u001b[0;34m:\u001b[0m\u001b[0;34m\u001b[0m\u001b[0;34m\u001b[0m\u001b[0m\n\u001b[0;32m-> 5526\u001b[0;31m             \u001b[0mresult\u001b[0m \u001b[0;34m=\u001b[0m \u001b[0mops\u001b[0m\u001b[0;34m.\u001b[0m\u001b[0marithmetic_op\u001b[0m\u001b[0;34m(\u001b[0m\u001b[0mlvalues\u001b[0m\u001b[0;34m,\u001b[0m \u001b[0mrvalues\u001b[0m\u001b[0;34m,\u001b[0m \u001b[0mop\u001b[0m\u001b[0;34m)\u001b[0m\u001b[0;34m\u001b[0m\u001b[0;34m\u001b[0m\u001b[0m\n\u001b[0m\u001b[1;32m   5527\u001b[0m \u001b[0;34m\u001b[0m\u001b[0m\n\u001b[1;32m   5528\u001b[0m         \u001b[0;32mreturn\u001b[0m \u001b[0mself\u001b[0m\u001b[0;34m.\u001b[0m\u001b[0m_construct_result\u001b[0m\u001b[0;34m(\u001b[0m\u001b[0mresult\u001b[0m\u001b[0;34m,\u001b[0m \u001b[0mname\u001b[0m\u001b[0;34m=\u001b[0m\u001b[0mres_name\u001b[0m\u001b[0;34m)\u001b[0m\u001b[0;34m\u001b[0m\u001b[0;34m\u001b[0m\u001b[0m\n",
            "\u001b[0;32m/usr/local/lib/python3.7/dist-packages/pandas/core/ops/array_ops.py\u001b[0m in \u001b[0;36marithmetic_op\u001b[0;34m(left, right, op)\u001b[0m\n\u001b[1;32m    216\u001b[0m         \u001b[0;31m# Timedelta/Timestamp and other custom scalars are included in the check\u001b[0m\u001b[0;34m\u001b[0m\u001b[0;34m\u001b[0m\u001b[0;34m\u001b[0m\u001b[0m\n\u001b[1;32m    217\u001b[0m         \u001b[0;31m# because numexpr will fail on it, see GH#31457\u001b[0m\u001b[0;34m\u001b[0m\u001b[0;34m\u001b[0m\u001b[0;34m\u001b[0m\u001b[0m\n\u001b[0;32m--> 218\u001b[0;31m         \u001b[0mres_values\u001b[0m \u001b[0;34m=\u001b[0m \u001b[0mop\u001b[0m\u001b[0;34m(\u001b[0m\u001b[0mleft\u001b[0m\u001b[0;34m,\u001b[0m \u001b[0mright\u001b[0m\u001b[0;34m)\u001b[0m\u001b[0;34m\u001b[0m\u001b[0;34m\u001b[0m\u001b[0m\n\u001b[0m\u001b[1;32m    219\u001b[0m     \u001b[0;32melse\u001b[0m\u001b[0;34m:\u001b[0m\u001b[0;34m\u001b[0m\u001b[0;34m\u001b[0m\u001b[0m\n\u001b[1;32m    220\u001b[0m         \u001b[0;31m# TODO we should handle EAs consistently and move this check before the if/else\u001b[0m\u001b[0;34m\u001b[0m\u001b[0;34m\u001b[0m\u001b[0;34m\u001b[0m\u001b[0m\n",
            "\u001b[0;31mTypeError\u001b[0m: unsupported operand type(s) for -: 'numpy.ndarray' and 'Timestamp'"
          ]
        }
      ],
      "source": [
        "data['fecha_envio_limite']-hoy"
      ]
    },
    {
      "cell_type": "markdown",
      "metadata": {
        "id": "Xe6NH3jTXzFx"
      },
      "source": [
        "# ¡Cuidado con el error, hay que revisar qué formato se está utlizando!"
      ]
    },
    {
      "cell_type": "code",
      "execution_count": 16,
      "metadata": {
        "scrolled": true,
        "colab": {
          "base_uri": "https://localhost:8080/"
        },
        "id": "-ewES0BRXzFx",
        "outputId": "3cdc23a1-7aea-4c74-9acb-935c2ec36670"
      },
      "outputs": [
        {
          "output_type": "execute_result",
          "data": {
            "text/plain": [
              "fecha_envio_limite    object\n",
              "dtype: object"
            ]
          },
          "metadata": {},
          "execution_count": 16
        }
      ],
      "source": [
        "# Revisar el tipo de dato que es la columnda de fechas\n",
        "data[['fecha_envio_limite']].dtypes"
      ]
    },
    {
      "cell_type": "code",
      "execution_count": 17,
      "metadata": {
        "id": "wG2ZugL_XzFx"
      },
      "outputs": [],
      "source": [
        "## Cambiar el tipo de dato\n",
        "# El tipo de dato de fecha para el lenguaje de programación es un texto, por lo tanto,\n",
        "# no se pueden realizar operaciones de ninguna, es necesario cambiar el tipo de dato\n",
        "data['fecha_envio_limite']=pd.to_datetime(data['fecha_envio_limite'])"
      ]
    },
    {
      "cell_type": "code",
      "execution_count": 18,
      "metadata": {
        "colab": {
          "base_uri": "https://localhost:8080/"
        },
        "id": "9RKVfqWPXzFx",
        "outputId": "894baea4-d334-423c-f3c4-3389505484fd"
      },
      "outputs": [
        {
          "output_type": "execute_result",
          "data": {
            "text/plain": [
              "fecha_envio_limite    datetime64[ns]\n",
              "dtype: object"
            ]
          },
          "metadata": {},
          "execution_count": 18
        }
      ],
      "source": [
        "# revisar que el tipo de dato es de fecha\n",
        "data[['fecha_envio_limite']].dtypes"
      ]
    },
    {
      "cell_type": "code",
      "execution_count": 19,
      "metadata": {
        "scrolled": true,
        "colab": {
          "base_uri": "https://localhost:8080/"
        },
        "id": "2cKP4f4pXzFy",
        "outputId": "01ded7f7-4866-4901-c88c-fa2791608c26"
      },
      "outputs": [
        {
          "output_type": "execute_result",
          "data": {
            "text/plain": [
              "0       1381 days 04:25:11.956337\n",
              "1       1638 days 13:30:11.956337\n",
              "2       1702 days 14:22:11.956337\n",
              "3       1664 days 23:10:11.956337\n",
              "4       1384 days 10:47:11.956337\n",
              "                   ...           \n",
              "10129   1562 days 10:59:11.956337\n",
              "10130   1637 days 05:28:11.956337\n",
              "10131   1648 days 14:00:11.956337\n",
              "10132   1614 days 19:17:11.956337\n",
              "10133   1571 days 03:03:11.956337\n",
              "Name: fecha_envio_limite, Length: 10111, dtype: timedelta64[ns]"
            ]
          },
          "metadata": {},
          "execution_count": 19
        }
      ],
      "source": [
        "# Hacer operaciones con el tipo de dato correcto\n",
        "# como ya la columna es el tipo de dato correcto se puede hacer la resta para obtener los días\n",
        "hoy-data['fecha_envio_limite']"
      ]
    },
    {
      "cell_type": "markdown",
      "metadata": {
        "id": "MqnHymvHXzFy"
      },
      "source": [
        "**Análisis:** Es posible realizar el cálculo de la fecha hasta hoy, sin embargo, es muy importante tener en cuenta el tipo de dato que se está operando"
      ]
    },
    {
      "cell_type": "markdown",
      "metadata": {
        "id": "PcQ24FuFXzFy"
      },
      "source": [
        "![Banner-Introducci-n.png](https://i.postimg.cc/VkCcqsvv/Banner-Introducci-n.png)"
      ]
    }
  ],
  "metadata": {
    "kernelspec": {
      "display_name": "Python 3 (ipykernel)",
      "language": "python",
      "name": "python3"
    },
    "language_info": {
      "codemirror_mode": {
        "name": "ipython",
        "version": 3
      },
      "file_extension": ".py",
      "mimetype": "text/x-python",
      "name": "python",
      "nbconvert_exporter": "python",
      "pygments_lexer": "ipython3",
      "version": "3.9.7"
    },
    "colab": {
      "name": "modulo3.ipynb",
      "provenance": [],
      "include_colab_link": true
    }
  },
  "nbformat": 4,
  "nbformat_minor": 0
}